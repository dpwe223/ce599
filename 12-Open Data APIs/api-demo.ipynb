{
 "cells": [
  {
   "cell_type": "markdown",
   "metadata": {},
   "source": [
    "# Working with Data APIs\n",
    "\n",
    "**Adapted from: Sam Maurer // maurer@berkeley.edu // Oct. 3, 2016**\n",
    "\n",
    "This notebook provides a demonstration of data-access APIs that operate over the web. See README.md for setup instructions.\n",
    "\n",
    "In Part 1, we'll load and parse results from an API feed of earthquake data.  \n",
    "In Part 2, we'll add query parameters to the workflow, using the Google Maps Geolocation API as an example.  \n",
    "In Part 3, we'll use an authenticated API to query public Twitter posts. "
   ]
  },
  {
   "cell_type": "markdown",
   "metadata": {},
   "source": [
    "# Part 1: Reading from an automated data feed\n",
    "\n",
    "### USGS real-time earthquake feeds\n",
    "\n",
    "This is an API for near-real-time data about earthquakes. Data is provided in JSON format over the web. No authentication is needed, and there's no way to customize the output. Instead, the API has a separate endpoint for each permutation of the data that users might want.\n",
    "\n",
    "**API documentation:**  \n",
    "http://earthquake.usgs.gov/earthquakes/feed/v1.0/geojson.php\n",
    "\n",
    "**Sample API endpoint, for magnitude 4.5+ earthquakes in past day:**  \n",
    "http://earthquake.usgs.gov/earthquakes/feed/v1.0/summary/4.5_day.geojson  \n"
   ]
  },
  {
   "cell_type": "code",
   "execution_count": 11,
   "metadata": {},
   "outputs": [],
   "source": [
    "%matplotlib inline\n",
    "\n",
    "import pandas as pd\n",
    "\n",
    "import json    # library for working with JSON-formatted text strings\n",
    "import requests  # library for accessing content from web URLs\n",
    "\n",
    "import pprint  # library for making Python data structures readable\n",
    "pp = pprint.PrettyPrinter()"
   ]
  },
  {
   "cell_type": "code",
   "execution_count": 12,
   "metadata": {},
   "outputs": [
    {
     "name": "stdout",
     "output_type": "stream",
     "text": [
      "<class 'str'>\n"
     ]
    }
   ],
   "source": [
    "# download data on magnitude 2.5+ quakes from the past week\n",
    "\n",
    "endpoint_url = \"http://earthquake.usgs.gov/earthquakes/feed/v1.0/summary/2.5_week.geojson\"\n",
    "response = requests.get(endpoint_url)\n",
    "results = response.text\n",
    "\n",
    "# what is the data type of the results?\n",
    "print(type(results))"
   ]
  },
  {
   "cell_type": "code",
   "execution_count": 13,
   "metadata": {},
   "outputs": [
    {
     "name": "stdout",
     "output_type": "stream",
     "text": [
      "{\"type\":\"FeatureCollection\",\"metadata\":{\"generated\":1648659396000,\"url\":\"https://earthquake.usgs.gov/earthquakes/feed/v1.0/summary/2.5_week.geojson\",\"title\":\"USGS Magnitude 2.5+ Earthquakes, Past Week\",\"status\":200,\"api\":\"1.10.3\",\"count\":333},\"features\":[{\"type\":\"Feature\",\"properties\":{\"mag\":5.4,\"place\":\"38 km SE of Champerico, Guatemala\",\"time\":1648656062613,\"updated\":1648659295724,\"tz\":null,\"url\":\"https://earthquake.usgs.gov/earthquakes/eventpage/us7000gyfc\",\"detail\":\"https://earthquake.usgs.g\n"
     ]
    }
   ],
   "source": [
    "# print the first 500 characters to see a sample of the data\n",
    "\n",
    "print(results[:500])"
   ]
  },
  {
   "cell_type": "code",
   "execution_count": 14,
   "metadata": {},
   "outputs": [
    {
     "name": "stdout",
     "output_type": "stream",
     "text": [
      "<class 'dict'>\n"
     ]
    }
   ],
   "source": [
    "# it looks like the results are a string with JSON-formatted data inside\n",
    "\n",
    "# parse the string into a Python dictionary\n",
    "data = json.loads(results)\n",
    "\n",
    "print(type(data))"
   ]
  },
  {
   "cell_type": "code",
   "execution_count": 15,
   "metadata": {},
   "outputs": [
    {
     "name": "stdout",
     "output_type": "stream",
     "text": [
      "{'type': 'Feature', 'properties': {'mag': 5.4, 'place': '38 km SE of Champerico, Guatemala', 'time': 1648656062613, 'updated': 1648659295724, 'tz': None, 'url': 'https://earthquake.usgs.gov/earthquakes/eventpage/us7000gyfc', 'detail': 'https://earthquake.usgs.gov/earthquakes/feed/v1.0/detail/us7000gyfc.geojson', 'felt': 4, 'cdi': 5.5, 'mmi': 4.391, 'alert': 'green', 'status': 'reviewed', 'tsunami': 0, 'sig': 451, 'net': 'us', 'code': '7000gyfc', 'ids': ',us7000gyfc,', 'sources': ',us,', 'types': ',dyfi,losspager,origin,phase-data,shakemap,', 'nst': None, 'dmin': 1.864, 'rms': 0.47, 'gap': 159, 'magType': 'mww', 'type': 'earthquake', 'title': 'M 5.4 - 38 km SE of Champerico, Guatemala'}, 'geometry': {'type': 'Point', 'coordinates': [-91.6962, 14.0205, 55.93]}, 'id': 'us7000gyfc'}\n"
     ]
    }
   ],
   "source": [
    "# print the most recent quake\n",
    "\n",
    "quakes = data['features']\n",
    "print(quakes[0])"
   ]
  },
  {
   "cell_type": "code",
   "execution_count": 16,
   "metadata": {},
   "outputs": [
    {
     "name": "stdout",
     "output_type": "stream",
     "text": [
      "{'coordinates': [-91.6962, 14.0205, 55.93], 'type': 'Point'}\n",
      "{'alert': 'green',\n",
      " 'cdi': 5.5,\n",
      " 'code': '7000gyfc',\n",
      " 'detail': 'https://earthquake.usgs.gov/earthquakes/feed/v1.0/detail/us7000gyfc.geojson',\n",
      " 'dmin': 1.864,\n",
      " 'felt': 4,\n",
      " 'gap': 159,\n",
      " 'ids': ',us7000gyfc,',\n",
      " 'mag': 5.4,\n",
      " 'magType': 'mww',\n",
      " 'mmi': 4.391,\n",
      " 'net': 'us',\n",
      " 'nst': None,\n",
      " 'place': '38 km SE of Champerico, Guatemala',\n",
      " 'rms': 0.47,\n",
      " 'sig': 451,\n",
      " 'sources': ',us,',\n",
      " 'status': 'reviewed',\n",
      " 'time': 1648656062613,\n",
      " 'title': 'M 5.4 - 38 km SE of Champerico, Guatemala',\n",
      " 'tsunami': 0,\n",
      " 'type': 'earthquake',\n",
      " 'types': ',dyfi,losspager,origin,phase-data,shakemap,',\n",
      " 'tz': None,\n",
      " 'updated': 1648659295724,\n",
      " 'url': 'https://earthquake.usgs.gov/earthquakes/eventpage/us7000gyfc'}\n"
     ]
    }
   ],
   "source": [
    "# print it more clearly\n",
    "\n",
    "pp.pprint(quakes[0]['geometry'])\n",
    "pp.pprint(quakes[0]['properties'])"
   ]
  },
  {
   "cell_type": "code",
   "execution_count": 17,
   "metadata": {},
   "outputs": [
    {
     "name": "stdout",
     "output_type": "stream",
     "text": [
      "M 5.4 - 38 km SE of Champerico, Guatemala\n",
      "M 3.1 - 42 km NW of Aguadilla, Puerto Rico\n",
      "M 2.5 - 2 km NNW of Tallaboa, Puerto Rico\n",
      "M 3.3 - 14 km NNE of Carrizales, Puerto Rico\n",
      "M 2.8 - Rat Islands, Aleutian Islands, Alaska\n",
      "M 2.5 - 10 km S of Guánica, Puerto Rico\n",
      "M 4.5 - 30 km NE of Lae, Papua New Guinea\n",
      "M 4.4 - Rat Islands, Aleutian Islands, Alaska\n",
      "M 4.3 - 156 km NE of Thang, India\n",
      "M 2.6 - 87 km WSW of Akhiok, Alaska\n",
      "M 2.8 - 57 km S of Whites City, New Mexico\n",
      "M 2.6 - 67 km WNW of Atka, Alaska\n",
      "M 4.7 - Kermadec Islands region\n",
      "M 3.3 - 57 km S of Whites City, New Mexico\n",
      "M 4.8 - 136 km NE of Tual, Indonesia\n",
      "M 5.0 - Sunda Strait, Indonesia\n",
      "M 3.4 - 4 km SW of Pāhala, Hawaii\n",
      "M 5.1 - South Sandwich Islands region\n",
      "M 3.7 - 8 km E of Pāhala, Hawaii\n",
      "M 4.6 - 233 km SE of Sarangani, Philippines\n",
      "M 4.5 - 61 km WSW of Zhaotong, China\n",
      "M 4.5 - 148 km SSW of Tomohon, Indonesia\n",
      "M 4.1 - 60 km W of San José de Jáchal, Argentina\n",
      "M 4.6 - 5 km NW of Karakenja, Tajikistan\n",
      "M 3.1 - 55 km S of Whites City, New Mexico\n",
      "M 2.8 - 56 km S of Whites City, New Mexico\n",
      "M 3.1 - 23 km NNE of Arecibo, Puerto Rico\n",
      "M 2.5 - 3 km S of Indios, Puerto Rico\n",
      "M 3.4 - 55 km S of Whites City, New Mexico\n",
      "M 2.5 - 55 km S of Whites City, New Mexico\n",
      "M 2.9 - 28 km SSE of Mina, Nevada\n",
      "M 4.1 - 10 km NE of Kamárai, Greece\n",
      "M 3.1 - Puerto Rico region\n",
      "M 2.6 - 53 km ENE of Pedro Bay, Alaska\n",
      "M 4.9 - 163 km NE of Neiafu, Tonga\n",
      "M 2.7 - 62 km SSW of Whites City, New Mexico\n",
      "M 2.9 - 53 km ENE of Beatty, Nevada\n",
      "M 3.3 - 299 km SW of Adak, Alaska\n",
      "M 2.6 - 4 km SSE of Guánica, Puerto Rico\n",
      "M 3.9 - 159 km SW of Adak, Alaska\n",
      "M 4.6 - 83 km NNW of Isangel, Vanuatu\n",
      "M 2.5 - 2 km N of Lluveras, Puerto Rico\n",
      "M 4.8 - 28 km W of Poblacion, San Felipe, Philippines\n",
      "M 2.8 - 3km NNW of The Geysers, CA\n",
      "M 2.7 - 13km SSW of Salton City, CA\n",
      "M 4.6 - Fiji region\n",
      "M 4.9 - 142 km WNW of Naha, Japan\n",
      "M 5.4 - 144 km WNW of Naha, Japan\n",
      "M 5.5 - off the coast of Michoacan, Mexico\n",
      "M 2.5 - 54 km SSW of Whites City, New Mexico\n",
      "M 4.9 - 80 km WNW of Cabra, Philippines\n",
      "M 4.4 - 62 km ESE of Ishinomaki, Japan\n",
      "M 4.6 - 46 km E of Ichinohe, Japan\n",
      "M 4.4 - 130 km WNW of Naha, Japan\n",
      "M 4.2 - 136 km NW of Hirara, Japan\n",
      "M 4.3 - 179 km WSW of Puerto Casma, Peru\n",
      "M 3.5 - 26 km E of Honaunau-Napoopoo, Hawaii\n",
      "M 2.5 - 22 km ENE of Honaunau-Napoopoo, Hawaii\n",
      "M 2.8 - 20 km ENE of Honaunau-Napoopoo, Hawaii\n",
      "M 2.5 - 8 km E of Skwentna, Alaska\n",
      "M 4.3 - 1 km ESE of Sardínia, Greece\n",
      "M 2.8 - 53 km NW of Toyah, Texas\n",
      "M 2.9 - 3 km SSE of Guánica, Puerto Rico\n",
      "M 3.7 - 114 km NE of Punta Cana, Dominican Republic\n",
      "M 2.7 - 7 km WSW of La Parguera, Puerto Rico\n",
      "M 4.4 - 71 km E of Hualien City, Taiwan\n",
      "M 2.6 - 40 km E of Port Alsworth, Alaska\n",
      "M 3.0 - near the coast of South Australia\n",
      "M 4.5 - 6 km SSW of Tual, Indonesia\n",
      "M 5.2 - 234 km ESE of Tadine, New Caledonia\n",
      "M 2.7 - 54 km NW of Toyah, Texas\n",
      "M 2.6 - 17 km NE of West Yellowstone, Montana\n",
      "M 2.8 - 16 km WSW of Coyanosa, Texas\n",
      "M 2.7 - 13 km ESE of Soda Springs, Idaho\n",
      "M 3.4 - 13 km NNE of Tierras Nuevas Poniente, Puerto Rico\n",
      "M 3.4 - 22 km NNW of Kalaoa, Hawaii\n",
      "M 3.2 - 7 km WSW of La Parguera, Puerto Rico\n",
      "M 4.5 - south of the Fiji Islands\n",
      "M 2.9 - 38 km SW of Nanwalek, Alaska\n",
      "M 2.5 - 35 km WSW of Mentone, Texas\n",
      "M 2.5 - 18 km W of Nanwalek, Alaska\n",
      "M 4.3 - Kashmir-Xinjiang border region\n",
      "M 4.3 - 74 km ENE of Ustica, Italy\n",
      "M 4.9 - Vanuatu\n",
      "M 4.5 - 144 km SW of La Esperanza (El Zapotal), Mexico\n",
      "M 2.8 - 16 km SW of Coyanosa, Texas\n",
      "M 2.6 - 57 km S of Whites City, New Mexico\n",
      "M 2.5 - 1 km SSE of Magas Arriba, Puerto Rico\n",
      "M 5.2 - Kermadec Islands, New Zealand\n",
      "M 2.9 - 154 km SW of Pelican, Alaska\n",
      "M 3.2 - 18 km SE of Esperanza, Puerto Rico\n",
      "M 4.7 - Andaman Islands, India region\n",
      "M 3.6 - 57 km S of Boca de Yuma, Dominican Republic\n",
      "M 4.3 - 30 km WSW of Labuan, Indonesia\n",
      "M 4.6 - 69 km E of Hualien City, Taiwan\n",
      "M 4.6 - 239 km E of Levuka, Fiji\n",
      "M 4.4 - 1 km ENE of El Cortezo, Panama\n",
      "M 2.6 - 64 km NNE of Van Horn, Texas\n",
      "M 5.4 - 153 km ENE of Savannah Bight, Honduras\n",
      "M 3.4 - 54 km NW of Toyah, Texas\n",
      "M 2.9 - 55 km NW of Toyah, Texas\n",
      "M 4.4 - 11 km ESE of Marihatag, Philippines\n",
      "M 2.8 - 54 km NW of Toyah, Texas\n",
      "M 4.6 - 86 km ENE of Namie, Japan\n",
      "M 3.2 - 54 km NW of Toyah, Texas\n",
      "M 3.0 - 10km SW of Niland, CA\n",
      "M 2.7 - 2 km N of Orocovis, Puerto Rico\n",
      "M 3.5 - 116 km S of Atka, Alaska\n",
      "M 2.6 - 82 km ENE of Ugashik, Alaska\n",
      "M 3.2 - 26 km NNE of Isabela, Puerto Rico\n",
      "M 4.4 - 84 km N of Basco, Philippines\n",
      "M 4.3 - south of the Fiji Islands\n",
      "M 3.4 - 34 km WSW of Stella, Puerto Rico\n",
      "M 2.6 - 9km SE of Lake Pillsbury, CA\n",
      "M 5.1 - South Sandwich Islands region\n",
      "M 2.5 - 7 km SE of Maria Antonia, Puerto Rico\n",
      "M 3.1 - 38 km N of Carrizales, Puerto Rico\n",
      "M 4.4 - 62 km WNW of Abra Pampa, Argentina\n",
      "M 2.9 - western Texas\n",
      "M 4.5 - Banda Sea\n",
      "M 4.3 - 37 km NW of Ovalle, Chile\n",
      "M 2.8 - 11 km ENE of Pāhala, Hawaii\n",
      "M 2.9 - 10 km SSE of Guánica, Puerto Rico\n",
      "M 4.6 - south of the Fiji Islands\n",
      "M 2.8 - 25 km SW of Coyanosa, Texas\n",
      "M 3.4 - 15 km SW of Delta Junction, Alaska\n",
      "M 4.9 - 16 km S of Esmeraldas, Ecuador\n",
      "M 5.2 - 8 km E of Esmeraldas, Ecuador\n",
      "M 2.6 - 56 km NW of Toyah, Texas\n",
      "M 3.2 - 68 km N of Tierras Nuevas Poniente, Puerto Rico\n",
      "M 3.7 - 11 km NE of Punta Cana, Dominican Republic\n",
      "M 4.6 - 54 km W of Cartagena, Chile\n",
      "M 3.4 - 72 km N of Tierras Nuevas Poniente, Puerto Rico\n",
      "M 3.3 - 68 km N of Tierras Nuevas Poniente, Puerto Rico\n",
      "M 3.3 - 64 km N of Tierras Nuevas Poniente, Puerto Rico\n",
      "M 4.3 - 28 km NE of Shizunai-furukawachō, Japan\n",
      "M 4.3 - 2 km NNW of Árma, Greece\n",
      "M 4.5 - 20 km N of Poso, Indonesia\n",
      "M 2.5 - 3 km SSW of Guánica, Puerto Rico\n",
      "M 2.6 - 4 km SSW of Indios, Puerto Rico\n",
      "M 3.3 - 5 km ENE of Edmond, Oklahoma\n",
      "M 3.8 - 21 km ESE of Boca de Yuma, Dominican Republic\n",
      "M 4.6 - 66 km SSE of Ishinomaki, Japan\n",
      "M 4.4 - 149 km WNW of Tiksi, Russia\n",
      "M 2.7 - 44 km NW of Toyah, Texas\n",
      "M 4.3 - 262 km WSW of La Cruz de Loreto, Mexico\n",
      "M 2.5 - 10 km WNW of Stanley, Idaho\n",
      "M 2.7 - 64 km NNE of Van Horn, Texas\n",
      "M 4.4 - near the east coast of Honshu, Japan\n",
      "M 2.9 - 51 km SSW of Whites City, New Mexico\n",
      "M 4.7 - 125 km SW of Jiquilillo, Nicaragua\n",
      "M 2.7 - 37 km NNW of Toyah, Texas\n",
      "M 2.9 - 17 km ESE of Chickaloon, Alaska\n",
      "M 3.8 - 37 km WSW of Mentone, Texas\n",
      "M 2.6 - western Texas\n",
      "M 4.6 - 98 km E of Caucete, Argentina\n",
      "M 4.5 - Java, Indonesia\n",
      "M 5.2 - 13 km S of Esmeraldas, Ecuador\n",
      "M 4.3 - Kermadec Islands region\n",
      "M 2.5 - 51 km W of Nanwalek, Alaska\n",
      "M 5.8 - 9 km SE of Esmeraldas, Ecuador\n",
      "M 2.5 - 58 km S of Whites City, New Mexico\n",
      "M 2.9 - northern Alaska\n",
      "M 4.1 - 83 km ENE of Namie, Japan\n",
      "M 3.1 - 62 km NW of San Antonio, Puerto Rico\n",
      "M 2.5 - 6 km E of Sneedville, Tennessee\n",
      "M 5.1 - off the coast of Oregon\n",
      "M 5.6 - Mid-Indian Ridge\n",
      "M 3.8 - 66 km S of Hualien City, Taiwan\n",
      "M 5.0 - 52 km E of Shizunai-furukawachō, Japan\n",
      "M 4.1 - Banda Sea\n",
      "M 3.2 - 30 km NE of Yakutat, Alaska\n",
      "M 2.5 - 46 km SW of Deering, Alaska\n",
      "M 4.0 - 129 km SW of Adak, Alaska\n",
      "M 4.6 - 95 km W of Kandrian, Papua New Guinea\n",
      "M 3.3 - Island of Hawaii, Hawaii\n",
      "M 3.4 - 230 km SE of Chignik, Alaska\n",
      "M 4.6 - 45 km NNE of Basco, Philippines\n",
      "M 3.3 - 6km W of Walker, CA\n",
      "M 2.7 - 65 km NNE of Van Horn, Texas\n",
      "M 4.8 - 162 km WNW of Naha, Japan\n",
      "M 5.4 - 133 km WNW of Naha, Japan\n",
      "M 3.5 - 142 km SSW of Lanai City, Hawaii\n",
      "M 2.9 - 252 km W of Adak, Alaska\n",
      "M 4.7 - 126 km NNW of Maumere, Indonesia\n",
      "M 5.1 - 43 km NNE of Basco, Philippines\n",
      "M 4.7 - Sulawesi, Indonesia\n",
      "M 4.3 - 36 km E of Kendari, Indonesia\n",
      "M 3.8 - 121 km SSE of Sand Point, Alaska\n",
      "M 2.8 - 3 km S of Pāhala, Hawaii\n",
      "M 2.6 - 5km W of Walker, CA\n",
      "M 2.7 - 17 km ESE of Alamo, Nevada\n",
      "M 2.6 - 7km WSW of Avenal, CA\n",
      "M 2.8 - 33km ESE of Big Pine, CA\n",
      "M 2.7 - 24 km E of Chignik, Alaska\n",
      "M 3.0 - 4 km WSW of Guánica, Puerto Rico\n",
      "M 4.5 - 26 km NE of Kendari, Indonesia\n",
      "M 3.0 - 71 km NW of False Pass, Alaska\n",
      "M 4.9 - Fiji region\n",
      "M 4.5 - Fiji region\n",
      "M 2.7 - 36 km N of Petersville, Alaska\n",
      "M 2.6 - 5 km SSW of Indios, Puerto Rico\n",
      "M 2.5 - 18 km SSW of Central, Alaska\n",
      "M 2.5 - 57 km S of Whites City, New Mexico\n",
      "M 2.7 - 31 km S of Segundo, Colorado\n",
      "M 4.9 - 230 km NNW of Tobelo, Indonesia\n",
      "M 2.7 - 59 km S of Whites City, New Mexico\n",
      "M 3.0 - 4 km S of Indios, Puerto Rico\n",
      "M 4.9 - 82 km WNW of Naze, Japan\n",
      "M 2.5 - 6 km SW of Guánica, Puerto Rico\n",
      "M 4.6 - 190 km SSE of Katsuura, Japan\n",
      "M 5.0 - 140 km ESE of Kimbe, Papua New Guinea\n",
      "M 2.6 - 18 km SSE of Iquique, Chile\n",
      "M 3.7 - 10km WSW of Williams, CA\n",
      "M 4.4 - 5 km ESE of Monte Lirio, Panama\n",
      "M 5.0 - south of the Fiji Islands\n",
      "M 4.4 - 6 km S of Mazatán, Mexico\n",
      "M 5.0 - 53 km NW of Finschhafen, Papua New Guinea\n",
      "M 5.0 - 145 km SSW of Laojunmiao, China\n",
      "M 3.3 - 9 km NE of Nicola Town, Saint Kitts and Nevis\n",
      "M 2.5 - 32 km WNW of Beluga, Alaska\n",
      "M 4.5 - 147 km SSW of Laojunmiao, China\n",
      "M 4.1 - 10 km ESE of Chimbarongo, Chile\n",
      "M 5.0 - 147 km SSW of Laojunmiao, China\n",
      "M 2.7 - 5km W of Walker, CA\n",
      "M 5.7 - 147 km SSW of Laojunmiao, China\n",
      "M 3.3 - 254 km SE of Chiniak, Alaska\n",
      "M 4.5 - 56 km WNW of Manokwari, Indonesia\n",
      "M 2.5 - 65 km SSW of Whites City, New Mexico\n",
      "M 3.1 - 35 km SE of Denali National Park, Alaska\n",
      "M 2.5 - 34 km SE of Denali National Park, Alaska\n",
      "M 2.8 - 4 km S of Pāhala, Hawaii\n",
      "M 4.7 - 37 km ENE of Namie, Japan\n",
      "M 4.3 - 104 km W of Port-Vila, Vanuatu\n",
      "M 4.7 - 36 km NE of Kendari, Indonesia\n",
      "M 4.5 - 59 km NNE of Beauséjour, Guadeloupe\n",
      "M 3.0 - 4 km S of Pāhala, Hawaii\n",
      "M 3.1 - 4 km S of Pāhala, Hawaii\n",
      "M 4.4 - 97 km E of Gorontalo, Indonesia\n",
      "M 5.3 - south of the Kermadec Islands\n",
      "M 4.5 - 40 km E of Nemuro, Japan\n",
      "M 2.6 - 66 km SSW of Whites City, New Mexico\n",
      "M 2.6 - 65 km NNE of Van Horn, Texas\n",
      "M 4.2 - 17 km S of San Francisco Cozoaltepec, Mexico\n",
      "M 2.6 - 22 km WNW of La Huerta, New Mexico\n",
      "M 3.2 - Puerto Rico region\n",
      "M 3.4 - 94 km W of Kailua-Kona, Hawaii\n",
      "M 3.6 - 261 km SE of Chiniak, Alaska\n",
      "M 2.8 - Alaska Peninsula\n",
      "M 3.3 - 54 km S of Whites City, New Mexico\n",
      "M 2.6 - 55 km S of Whites City, New Mexico\n",
      "M 5.1 - 65 km NE of Ishigaki, Japan\n",
      "M 5.2 - 32 km ENE of Namie, Japan\n",
      "M 4.6 - 56 km S of Whites City, New Mexico\n",
      "M 4.5 - 236 km W of Tual, Indonesia\n",
      "M 5.4 - 60 km N of Lae, Papua New Guinea\n",
      "M 2.5 - 4 km SSE of Maria Antonia, Puerto Rico\n",
      "M 4.4 - 20 km E of Shibetsu, Japan\n",
      "M 5.3 - 6 km NNW of Chivay, Peru\n",
      "M 3.1 - 6 km ENE of La Parguera, Puerto Rico\n",
      "M 4.2 - Revilla Gigedo Islands region\n",
      "M 2.5 - 3 km ESE of Pole Ojea, Puerto Rico\n",
      "M 4.8 - 105 km WSW of San Nicolas, Philippines\n",
      "M 4.9 - 57 km NE of Nogliki, Russia\n",
      "M 4.7 - 277 km WSW of Tual, Indonesia\n",
      "M 4.8 - 94 km WNW of Cabra, Philippines\n",
      "M 2.6 - 7 km ESE of Pole Ojea, Puerto Rico\n",
      "M 4.6 - 80 km WNW of Cabra, Philippines\n",
      "M 2.6 - 62 km SSW of Whites City, New Mexico\n",
      "M 4.6 - 79 km WNW of Cabra, Philippines\n",
      "M 2.8 - 30 km NNE of Petersville, Alaska\n",
      "M 4.5 - 107 km SSW of La Esperanza (El Zapotal), Mexico\n",
      "M 2.6 - 39 km NW of San Antonio, Puerto Rico\n",
      "M 4.8 - 251 km SSW of Jimbaran, Indonesia\n",
      "M 4.3 - 179 km SSW of Atka, Alaska\n",
      "M 5.2 - south of the Kermadec Islands\n",
      "M 3.2 - 64 km N of San Antonio, Puerto Rico\n",
      "M 2.7 - 48 km ENE of Fort Bidwell, California\n",
      "M 2.8 - 5 km SW of Guánica, Puerto Rico\n",
      "M 3.2 - 60 km SE of Denali National Park, Alaska\n",
      "M 4.7 - 44 km W of Amahai, Indonesia\n",
      "M 2.7 - 57 km S of Whites City, New Mexico\n",
      "M 4.6 - 87 km S of San Francisco del Mar Viejo, Mexico\n",
      "M 4.0 - 65 km NNE of Van Horn, Texas\n",
      "M 4.6 - 21 km WSW of Manalongon, Philippines\n",
      "M 4.2 - 6 km W of Ramón Santana, Dominican Republic\n",
      "M 2.6 - 1 km WSW of Indios, Puerto Rico\n",
      "M 2.5 - 7km NW of The Geysers, CA\n",
      "M 2.6 - 6 km SW of Guánica, Puerto Rico\n",
      "M 3.1 - 3 km N of Olimpo, Puerto Rico\n",
      "M 2.7 - 44 km SSE of Perryville, Alaska\n",
      "M 2.8 - 49 km ENE of Fort Bidwell, California\n",
      "M 2.8 - 3 km S of Pāhala, Hawaii\n",
      "M 4.7 - Galapagos Triple Junction region\n",
      "M 4.6 - 49 km ESE of Port-Olry, Vanuatu\n",
      "M 4.3 - 36 km SE of Iwaki, Japan\n",
      "M 4.5 - south of the Fiji Islands\n",
      "M 2.9 - 5 km SSE of Gardendale, Texas\n",
      "M 4.5 - 6 km SSE of Fukayachō, Japan\n",
      "M 3.6 - 83 km N of Culebra, Puerto Rico\n",
      "M 2.9 - 55 km NNW of Petersville, Alaska\n",
      "M 3.7 - 79 km N of Culebra, Puerto Rico\n",
      "M 2.8 - 55 km SSW of Whites City, New Mexico\n",
      "M 3.1 - 64 km SSW of Whites City, New Mexico\n",
      "M 4.5 - 80 km ENE of Namie, Japan\n",
      "M 3.0 - Puerto Rico region\n",
      "M 4.4 - Pagan region, Northern Mariana Islands\n",
      "M 4.4 - 164 km S of Manokwari, Indonesia\n",
      "M 4.7 - Banda Sea\n",
      "M 3.4 - 96 km SW of Pole Ojea, Puerto Rico\n",
      "M 4.6 - 26 km NE of Sola, Vanuatu\n",
      "M 4.7 - 12 km NW of San José del Palmar, Colombia\n",
      "M 5.2 - 55 km S of Hualien City, Taiwan\n",
      "M 4.2 - 62 km S of Hualien City, Taiwan\n",
      "M 3.3 - 94 km SW of Pole Ojea, Puerto Rico\n",
      "M 4.9 - 64 km WNW of Manokwari, Indonesia\n",
      "M 4.4 - 20 km S of Ōfunato, Japan\n",
      "M 4.6 - 75 km WNW of Cabra, Philippines\n",
      "M 5.0 - 256 km S of ‘Ohonua, Tonga\n",
      "M 4.4 - 79 km SE of Ishinomaki, Japan\n",
      "M 2.9 - 18 km S of Guánica, Puerto Rico\n",
      "M 5.1 - 142 km WNW of Naha, Japan\n",
      "M 2.8 - 18 km S of Guánica, Puerto Rico\n",
      "M 6.0 - 36 km ESE of Port-Olry, Vanuatu\n",
      "M 4.3 - 126 km WSW of Santiago de Cao, Peru\n",
      "M 5.5 - 238 km S of ‘Ohonua, Tonga\n",
      "M 4.7 - 63 km S of Hualien City, Taiwan\n",
      "M 4.6 - 76 km WNW of Cabra, Philippines\n",
      "M 5.1 - 18 km N of Jérémie, Haiti\n",
      "M 4.7 - 67 km E of Port Alsworth, Alaska\n",
      "M 4.3 - Tajikistan\n",
      "M 5.3 - 148 km WNW of Naha, Japan\n",
      "M 4.0 - 19 km W of Metsavan, Armenia\n"
     ]
    }
   ],
   "source": [
    "# pull out the title from each earthquake listing\n",
    "\n",
    "for q in quakes:\n",
    "    print(q['properties']['title'])"
   ]
  },
  {
   "cell_type": "code",
   "execution_count": 18,
   "metadata": {},
   "outputs": [
    {
     "name": "stdout",
     "output_type": "stream",
     "text": [
      "333\n"
     ]
    }
   ],
   "source": [
    "# pull out magnitudes and depths into a Pandas dataframe, using\n",
    "# a more compact Python syntax for iterating through lists\n",
    "\n",
    "d = {'magnitude': [q['properties']['mag'] for q in quakes],\n",
    "     'depth': [q['geometry']['coordinates'][2] for q in quakes]}\n",
    "\n",
    "df = pd.DataFrame.from_dict(d)\n",
    "\n",
    "# how many earthquakes were loaded into the dataframe?\n",
    "print(len(df))"
   ]
  },
  {
   "cell_type": "code",
   "execution_count": 19,
   "metadata": {},
   "outputs": [
    {
     "name": "stdout",
     "output_type": "stream",
     "text": [
      "   magnitude  depth\n",
      "0       5.40  55.93\n",
      "1       3.08  13.36\n",
      "2       2.54  16.54\n",
      "3       3.25  16.52\n",
      "4       2.80  28.10\n"
     ]
    }
   ],
   "source": [
    "# print the first few lines of data\n",
    "\n",
    "print(df.head())"
   ]
  },
  {
   "cell_type": "code",
   "execution_count": 20,
   "metadata": {},
   "outputs": [
    {
     "name": "stdout",
     "output_type": "stream",
     "text": [
      "        magnitude       depth\n",
      "count  333.000000  333.000000\n",
      "mean     3.755962   50.449178\n",
      "std      0.956014   94.296996\n",
      "min      2.450000   -1.230000\n",
      "25%      2.800000   10.000000\n",
      "50%      3.680000   11.000000\n",
      "75%      4.600000   51.790000\n",
      "max      6.000000  605.600000\n"
     ]
    }
   ],
   "source": [
    "# print some descriptive statistics\n",
    "\n",
    "print(df.describe())"
   ]
  },
  {
   "cell_type": "code",
   "execution_count": 21,
   "metadata": {},
   "outputs": [
    {
     "data": {
      "text/plain": [
       "<AxesSubplot:xlabel='magnitude', ylabel='depth'>"
      ]
     },
     "execution_count": 21,
     "metadata": {},
     "output_type": "execute_result"
    },
    {
     "data": {
      "image/png": "[encoded data removed]",
      "text/plain": [
       "<Figure size 432x288 with 1 Axes>"
      ]
     },
     "metadata": {
      "needs_background": "light"
     },
     "output_type": "display_data"
    }
   ],
   "source": [
    "# plot the depth vs. magnitude\n",
    "\n",
    "df.plot(x='magnitude', y='depth', kind='scatter')"
   ]
  },
  {
   "cell_type": "code",
   "execution_count": 22,
   "metadata": {},
   "outputs": [
    {
     "name": "stdout",
     "output_type": "stream",
     "text": [
      "file saved\n"
     ]
    }
   ],
   "source": [
    "# save the dataframe to disk\n",
    "\n",
    "df.to_csv('usgs_earthquake_data.csv')\n",
    "\n",
    "print('file saved')"
   ]
  },
  {
   "cell_type": "code",
   "execution_count": 23,
   "metadata": {},
   "outputs": [
    {
     "name": "stdout",
     "output_type": "stream",
     "text": [
      "   Unnamed: 0  magnitude  depth\n",
      "0           0       5.40  55.93\n",
      "1           1       3.08  13.36\n",
      "2           2       2.54  16.54\n",
      "3           3       3.25  16.52\n",
      "4           4       2.80  28.10\n"
     ]
    }
   ],
   "source": [
    "# read it back later\n",
    "\n",
    "new_df = pd.read_csv('usgs_earthquake_data.csv')\n",
    "\n",
    "print(new_df.head())"
   ]
  },
  {
   "cell_type": "code",
   "execution_count": null,
   "metadata": {},
   "outputs": [],
   "source": []
  },
  {
   "cell_type": "code",
   "execution_count": null,
   "metadata": {},
   "outputs": [],
   "source": []
  },
  {
   "cell_type": "code",
   "execution_count": null,
   "metadata": {},
   "outputs": [],
   "source": []
  },
  {
   "cell_type": "markdown",
   "metadata": {},
   "source": [
    "# Part 2: Querying an API endpoint\n",
    "\n",
    "### Google Maps Geocoding API\n",
    "\n",
    "Google has lots of APIs that let you access its services through code instead of through GUI apps. This one from Google Maps lets you look up the latitude-longitude coordinates of street addresses.\n",
    "\n",
    "It works similarly to the earthquakes example, but with query parameters added to the URL endpoint!\n",
    "\n",
    "**API documentation:**  \n",
    "https://developers.google.com/maps/documentation/geocoding/intro\n",
    "\n",
    "**API endpoint:**  \n",
    "https://maps.googleapis.com/maps/api/geocode/json\n",
    "\n",
    "**API endpoint with query parameters:**  \n",
    "https://maps.googleapis.com/maps/api/geocode/json?address=Wurster+Hall"
   ]
  },
  {
   "cell_type": "code",
   "execution_count": null,
   "metadata": {},
   "outputs": [],
   "source": [
    "import json    # library for working with JSON-formatted text strings\n",
    "import requests  # library for accessing content from web URLs\n",
    "\n",
    "import pprint  # library for making Python data structures readable\n",
    "pp = pprint.PrettyPrinter()"
   ]
  },
  {
   "cell_type": "code",
   "execution_count": null,
   "metadata": {},
   "outputs": [],
   "source": [
    "# we have to encode the search query so that it can be passed as a URL, \n",
    "# with spaces and other special characters removed\n",
    "\n",
    "endpoint = 'https://maps.googleapis.com/maps/api/geocode/json'\n",
    "\n",
    "params = {'address': 'young library uky'}\n",
    "\n",
    "url = requests.Request('GET', endpoint, params=params).prepare().url\n",
    "print(url)"
   ]
  },
  {
   "cell_type": "code",
   "execution_count": null,
   "metadata": {},
   "outputs": [],
   "source": [
    "# download and parse the results\n",
    "\n",
    "response = requests.get(url)\n",
    "results = response.text\n",
    "data = json.loads(results)\n",
    "\n",
    "print(data)"
   ]
  },
  {
   "cell_type": "code",
   "execution_count": null,
   "metadata": {},
   "outputs": [],
   "source": [
    "# print it more nicely\n",
    "\n",
    "pp.pprint(data)"
   ]
  },
  {
   "cell_type": "code",
   "execution_count": null,
   "metadata": {},
   "outputs": [],
   "source": [
    "# pull out the lat-lon coordinates\n",
    "\n",
    "for r in data['results']:\n",
    "    coords = r['geometry']['location']\n",
    "    print(coords['lat'], coords['lng'])"
   ]
  },
  {
   "cell_type": "markdown",
   "metadata": {},
   "source": [
    "### Exercises\n",
    "\n",
    "1. Search for some other addresses or landmarks!\n",
    "2. Take a look at the [API documentation](https://developers.google.com/maps/documentation/geocoding/intro). What are the usage limits?"
   ]
  },
  {
   "cell_type": "code",
   "execution_count": null,
   "metadata": {},
   "outputs": [],
   "source": []
  },
  {
   "cell_type": "code",
   "execution_count": null,
   "metadata": {},
   "outputs": [],
   "source": []
  },
  {
   "cell_type": "code",
   "execution_count": null,
   "metadata": {},
   "outputs": [],
   "source": []
  },
  {
   "cell_type": "markdown",
   "metadata": {},
   "source": [
    "# Part 3: Querying an API with authentication\n",
    "\n",
    "### Twitter REST APIs\n",
    "\n",
    "Twitter's APIs also operate over the web, but they require a back-and-forth authentication process at the beginning of each connection. It's easier to have a Python library handle this than to create the query URLs ourselves.\n",
    "\n",
    "The Twitter \"REST\" APIs perform stand-alone operations: you submit a query and receive results, like in earlier examples. ([REST](https://en.wikipedia.org/wiki/Representational_state_transfer) is a particular set of guidelines that many APIs follow.) Twitter also has a \"streaming\" API that continues sending results in real time until you disconnect.\n",
    "\n",
    "**API documentation:**  \n",
    "https://dev.twitter.com/rest/public  \n",
    "https://dev.twitter.com/overview/api/tweets\n",
    "\n",
    "**Documentation for the Python helper library**:  \n",
    "https://github.com/geduldig/TwitterAPI"
   ]
  },
  {
   "cell_type": "code",
   "execution_count": 1,
   "metadata": {},
   "outputs": [],
   "source": [
    "from TwitterAPI import TwitterAPI\n",
    "\n",
    "import pprint  # library for making Python data structures readable\n",
    "pp = pprint.PrettyPrinter()"
   ]
  },
  {
   "cell_type": "code",
   "execution_count": 2,
   "metadata": {},
   "outputs": [],
   "source": [
    "# import API credentials from keys.py file in the\n",
    "# same directory as this notebook\n",
    "\n",
    "from keys import *"
   ]
  },
  {
   "cell_type": "code",
   "execution_count": 3,
   "metadata": {},
   "outputs": [
    {
     "name": "stdout",
     "output_type": "stream",
     "text": [
      "Connection is set up but not tested\n"
     ]
    }
   ],
   "source": [
    "# set up an API connection using credentials from the keys file\n",
    "\n",
    "api = TwitterAPI(consumer_key, consumer_secret, \n",
    "                 access_token, access_token_secret)\n",
    "\n",
    "print(\"Connection is set up but not tested\")"
   ]
  },
  {
   "cell_type": "markdown",
   "metadata": {},
   "source": [
    "### Making a simple data request"
   ]
  },
  {
   "cell_type": "code",
   "execution_count": 4,
   "metadata": {},
   "outputs": [
    {
     "name": "stdout",
     "output_type": "stream",
     "text": [
      "Season Ticket renewals for the 2022 @UKFootball season end this Friday, April 1st!\n",
      "\n",
      "Renew today through your My UK… https://t.co/botl3tashv\n"
     ]
    }
   ],
   "source": [
    "# most recent tweet from @UCBerkeley's timeline\n",
    "\n",
    "endpoint = 'statuses/user_timeline'\n",
    "params = {\n",
    "    'screen_name': 'UKAthletics', \n",
    "    'count': 1\n",
    "}\n",
    "r = api.request(endpoint, params)\n",
    "\n",
    "for tweet in r.get_iterator():\n",
    "    print(tweet['text'])"
   ]
  },
  {
   "cell_type": "code",
   "execution_count": 5,
   "metadata": {},
   "outputs": [
    {
     "name": "stdout",
     "output_type": "stream",
     "text": [
      "{'contributors': None,\n",
      " 'coordinates': None,\n",
      " 'created_at': 'Tue Mar 29 23:00:04 +0000 2022',\n",
      " 'entities': {'hashtags': [],\n",
      "              'symbols': [],\n",
      "              'urls': [{'display_url': 'twitter.com/i/web/status/1…',\n",
      "                        'expanded_url': 'https://twitter.com/i/web/status/1508942094437695493',\n",
      "                        'indices': [116, 139],\n",
      "                        'url': 'https://t.co/botl3tashv'}],\n",
      "              'user_mentions': [{'id': 360022514,\n",
      "                                 'id_str': '360022514',\n",
      "                                 'indices': [36, 47],\n",
      "                                 'name': 'Kentucky Football',\n",
      "                                 'screen_name': 'UKFootball'}]},\n",
      " 'favorite_count': 54,\n",
      " 'favorited': False,\n",
      " 'geo': None,\n",
      " 'id': 1508942094437695493,\n",
      " 'id_str': '1508942094437695493',\n",
      " 'in_reply_to_screen_name': None,\n",
      " 'in_reply_to_status_id': None,\n",
      " 'in_reply_to_status_id_str': None,\n",
      " 'in_reply_to_user_id': None,\n",
      " 'in_reply_to_user_id_str': None,\n",
      " 'is_quote_status': False,\n",
      " 'lang': 'en',\n",
      " 'place': None,\n",
      " 'retweet_count': 8,\n",
      " 'retweeted': False,\n",
      " 'source': '<a href=\"https://twitter.com\" rel=\"nofollow\">Twitter for '\n",
      "           'Advertisers</a>',\n",
      " 'text': 'Season Ticket renewals for the 2022 @UKFootball season end this '\n",
      "         'Friday, April 1st!\\n'\n",
      "         '\\n'\n",
      "         'Renew today through your My UK… https://t.co/botl3tashv',\n",
      " 'truncated': True,\n",
      " 'user': {'contributors_enabled': False,\n",
      "          'created_at': 'Tue Mar 17 18:41:37 +0000 2009',\n",
      "          'default_profile': False,\n",
      "          'default_profile_image': False,\n",
      "          'description': 'The official Twitter account of the University of '\n",
      "                         'Kentucky Athletics Department. Facebook: Kentucky '\n",
      "                         'Wildcats; Instagram: ukathletics; #WeAreUK '\n",
      "                         '#BlueGetsIn #BBN',\n",
      "          'entities': {'description': {'urls': []},\n",
      "                       'url': {'urls': [{'display_url': 'UKathletics.com/Tickets',\n",
      "                                         'expanded_url': 'http://UKathletics.com/Tickets',\n",
      "                                         'indices': [0, 23],\n",
      "                                         'url': 'https://t.co/8igZBVnitf'}]}},\n",
      "          'favourites_count': 8297,\n",
      "          'follow_request_sent': False,\n",
      "          'followers_count': 343104,\n",
      "          'following': False,\n",
      "          'friends_count': 926,\n",
      "          'geo_enabled': True,\n",
      "          'has_extended_profile': False,\n",
      "          'id': 24929053,\n",
      "          'id_str': '24929053',\n",
      "          'is_translation_enabled': False,\n",
      "          'is_translator': False,\n",
      "          'lang': None,\n",
      "          'listed_count': 1368,\n",
      "          'location': 'Lexington, KY',\n",
      "          'name': 'Kentucky Athletics',\n",
      "          'notifications': False,\n",
      "          'profile_background_color': '000738',\n",
      "          'profile_background_image_url': 'http://abs.twimg.com/images/themes/theme9/bg.gif',\n",
      "          'profile_background_image_url_https': 'https://abs.twimg.com/images/themes/theme9/bg.gif',\n",
      "          'profile_background_tile': False,\n",
      "          'profile_banner_url': 'https://pbs.twimg.com/profile_banners/24929053/1599234537',\n",
      "          'profile_image_url': 'http://pbs.twimg.com/profile_images/1402626619420909575/4Jdu4IEg_normal.jpg',\n",
      "          'profile_image_url_https': 'https://pbs.twimg.com/profile_images/1402626619420909575/4Jdu4IEg_normal.jpg',\n",
      "          'profile_link_color': '084AE7',\n",
      "          'profile_sidebar_border_color': 'FFFFFF',\n",
      "          'profile_sidebar_fill_color': 'FFFFFF',\n",
      "          'profile_text_color': '787878',\n",
      "          'profile_use_background_image': True,\n",
      "          'protected': False,\n",
      "          'screen_name': 'UKAthletics',\n",
      "          'statuses_count': 66821,\n",
      "          'time_zone': None,\n",
      "          'translator_type': 'none',\n",
      "          'url': 'https://t.co/8igZBVnitf',\n",
      "          'utc_offset': None,\n",
      "          'verified': True,\n",
      "          'withheld_in_countries': []}}\n"
     ]
    }
   ],
   "source": [
    "# what other data is there?\n",
    "\n",
    "pp.pprint(tweet)"
   ]
  },
  {
   "cell_type": "markdown",
   "metadata": {},
   "source": [
    "### Other API endpoints allow different types of searches"
   ]
  },
  {
   "cell_type": "code",
   "execution_count": 25,
   "metadata": {},
   "outputs": [
    {
     "name": "stdout",
     "output_type": "stream",
     "text": [
      "RT @1Aw55: Night promotion \n",
      "@R__ubi @1Aw55 @1khtir @Mlkani_ @YPS26 @1krnaz @Ghz97 @_Sana_G @786H1 @1ziml @Hf33z #RPG @Azix103 @ChR71 @Mlngi…\n",
      "\n",
      "RT @Zeba_Khn: FB💯\n",
      "@Nysar8 @Sn__owy\n",
      "@1khtir @Nra_19 @YPS26\n",
      "@BkJ_0 @Hf33z  @Mlkani_\n",
      "@Ghz79 @R__ubi @786H1\n",
      "@1ziml @786H1 @Azix103 \n",
      "@Smpti0 @Ch…\n",
      "\n",
      "RT @BZ477: سونے سے پہلے حاضری لگائے صبح اٹھے گئے 100 فالوز کا یقینی آ ضافہ\n",
      "\n",
      "اس ٹویٹ کو ریٹویٹ کرو اور اپنا اکاؤنٹ مینشن کریں\n",
      "@azamraj12 @Ba…\n",
      "\n",
      "RT @1fzall: #BBN \n",
      "👈جو دوست طویل مدت سے ٹوئیٹر استعمال کر رہے ہیں اور انکے فالورز کم ہیں صرف وہ اپنے آپ کو مینشن کریں اور ریٹویٹ 🔁 کریں تاکہ…\n",
      "\n",
      "RT @786Nim: Star💫\n",
      "@786Nim @NZPAK_ @Khrm23\n",
      "@M_ZA_5 @NQI_9 @twtSMH\n",
      "@s1_m_s @BBNPROMO @Titl_i\n",
      "@1Aw55 @Azix103 @Yqbh2\n",
      "@Aln_m6 @1kckt @Bhii68\n",
      "@R…\n",
      "\n"
     ]
    }
   ],
   "source": [
    "# search for public tweets about #BBN\n",
    "\n",
    "endpoint = 'search/tweets'\n",
    "params = {\n",
    "    'q': '#BBN', \n",
    "    'count': 5\n",
    "}\n",
    "r = api.request(endpoint, params)\n",
    "\n",
    "for tweet in r.get_iterator():\n",
    "    print(tweet['text'] + '\\n')"
   ]
  },
  {
   "cell_type": "code",
   "execution_count": 26,
   "metadata": {},
   "outputs": [
    {
     "name": "stdout",
     "output_type": "stream",
     "text": [
      "RT @Hardika_Yadav: जय श्री कृष्ण 🙏\n",
      "भारतीय सेना में अहीर रेजिमेंट गठन हेतु एक बार फिर ट्विटर ट्रेंड रखा गया है।\n",
      "\n",
      "हैशटैग - #अहीर_रेजिमेंट_हक़…\n",
      "\n",
      "@HomelanderOP Antha naaya pathaley siripu tha varuthu😹😹😹🏃🏻\n",
      "\n",
      "RT @BJP4MP: आज दिल्ली में आयोजित मध्य प्रदेश भाजपा संसदीय दल की बैठक में पूर्व प्रदेश संगठन महामंत्री श्री @SuhasBhagatBJP जी को नवीन दायि…\n",
      "\n",
      "RT @Profdilipmandal: महंतों से बेटी बचाओ। https://t.co/vFr6jO9Bux\n",
      "\n",
      "RT @jinnorine: Kuch nhai kiyo kiya hoya \n",
      "FATEJO SIZZLING HOLI\n",
      "\n"
     ]
    }
   ],
   "source": [
    "# search for public tweets in Hindi\n",
    "\n",
    "endpoint = 'search/tweets'\n",
    "params = {\n",
    "    'q': '*', \n",
    "    'lang': 'hi', \n",
    "    'count': 5\n",
    "} \n",
    "r = api.request(endpoint, params)\n",
    "\n",
    "for tweet in r.get_iterator():\n",
    "    print(tweet['text'] + '\\n')"
   ]
  },
  {
   "cell_type": "code",
   "execution_count": 28,
   "metadata": {},
   "outputs": [
    {
     "name": "stdout",
     "output_type": "stream",
     "text": [
      "crying\n",
      "\n",
      "Last week we were joined by Carmen and Drew from the @Reds to tell us about the foundation they have built in sport… https://t.co/LovWAuzz0V\n",
      "\n",
      "Had a great visit at The University of Kentucky‼️@UKFootball \n",
      "@QBUniverseQBU @QBHitList @RabunFootball @coachheavyd… https://t.co/6mBgVdNqgT\n",
      "\n",
      "Lisa L Peel would love to show you the #listing at 435 Park Avenue #Lexington #KY  #realestate… https://t.co/KORuorK73q\n",
      "\n",
      "Another great day at the University of Kentucky! 👍🏻 https://t.co/mWDSKGX4PL\n",
      "\n",
      "I am single-handedly keeping @redbaronpizza in business.\n",
      "\n"
     ]
    }
   ],
   "source": [
    "# search for public tweets geotagged near the UK campus\n",
    "\n",
    "endpoint = 'search/tweets'\n",
    "params = {\n",
    "    'q': '*', \n",
    "    'geocode': '38.034,-84.500,0.5km', \n",
    "    'count': 10\n",
    "} \n",
    "r = api.request(endpoint, params)\n",
    "\n",
    "for tweet in r.get_iterator():\n",
    "    print(tweet['text'] + '\\n')"
   ]
  },
  {
   "cell_type": "markdown",
   "metadata": {},
   "source": [
    "### Exercises\n",
    "\n",
    "1. Try some different search queries!\n",
    "2. Display some more data fields in addition to the tweet text"
   ]
  },
  {
   "cell_type": "code",
   "execution_count": 32,
   "metadata": {},
   "outputs": [
    {
     "name": "stdout",
     "output_type": "stream",
     "text": [
      "Mon Mar 28 18:14:16 +0000 2022\n",
      "Mon Mar 21 18:17:57 +0000 2022\n",
      "Fri Mar 11 17:27:48 +0000 2022\n"
     ]
    }
   ],
   "source": [
    "endpoint = 'statuses/user_timeline'\n",
    "params = {\n",
    "    'screen_name': 'UKYpres', \n",
    "    'count': 3\n",
    "}\n",
    "r = api.request(endpoint, params)\n",
    "\n",
    "for tweet in r.get_iterator():\n",
    "    print(tweet['created_at'])\n",
    "#prints the time for the last three tweets from the president"
   ]
  },
  {
   "cell_type": "code",
   "execution_count": null,
   "metadata": {},
   "outputs": [],
   "source": []
  },
  {
   "cell_type": "code",
   "execution_count": null,
   "metadata": {},
   "outputs": [],
   "source": []
  },
  {
   "cell_type": "markdown",
   "metadata": {},
   "source": [
    "### Bonus: Streaming live tweets in real time "
   ]
  },
  {
   "cell_type": "code",
   "execution_count": 9,
   "metadata": {},
   "outputs": [
    {
     "name": "stdout",
     "output_type": "stream",
     "text": [
      "Wed Mar 30 16:56:47 +0000 2022\n",
      "Niterói, Brasil, Brazil\n",
      "Deus sabe de todas as coisas 🤍\n",
      "\n",
      "Wed Mar 30 16:56:47 +0000 2022\n",
      "الرويضة, المملكة العربية السعودية, المملكة العربية السعودية\n",
      "تهنئة خاصه لمتابعيني 🌹🌹🌹🌹🌹 https://t.co/tJOwozmXg2\n",
      "\n",
      "Wed Mar 30 16:56:47 +0000 2022\n",
      "Sicily, Italy, Italy\n",
      "After visiting almost EVERY corner of the gorgeous island and creating a complete series of 30 episodes, here are o… https://t.co/jlmu6OeG7x\n",
      "\n",
      "Wed Mar 30 16:56:48 +0000 2022\n",
      "Eastwood, England, United Kingdom\n",
      "@VyzzzM @ab_dee10 @433 Des?\n",
      "\n",
      "Wed Mar 30 16:56:48 +0000 2022\n",
      "Bengaluru South, India, India\n",
      "@andylapteff This is concerning indeed !!\n",
      "\n",
      "Wed Mar 30 16:56:48 +0000 2022\n",
      "Casale Monferrato, Piemonte, Italia\n",
      "Foto appena pubblicata @ Casale Monferrato https://t.co/jHcwglCTM3\n",
      "\n",
      "Wed Mar 30 16:56:48 +0000 2022\n",
      "Punjab, Pakistan, Pakistan\n",
      "غم تو اس بات کا ہے کہ عمران خان کے بعد کس کا چناؤ کرے ۔ ان ناکارہ کارتوسوں سے اللہ بچائے۔۔\n",
      "#BehindYouSkipper \n",
      "#عمران_خان_بمقابلہ_چالیس_چور\n",
      "\n",
      "Wed Mar 30 16:56:48 +0000 2022\n",
      "Riyadh, Kingdom of Saudi Arabia, Kingdom of Saudi Arabia\n",
      "ذكر ذهنك ذكاء ذراته\n",
      "💯\n",
      "اناس اوناس   AB33\n",
      "\n",
      "اتش اند ام   MV4C\n",
      "\n",
      "Wed Mar 30 16:56:48 +0000 2022\n",
      "Niterói, Brasil, Brazil\n",
      "@JulianaMata13 Então Juliana, já falei com o médico dela que e arriscado , ela está muito debilitada, mas ao mesmo… https://t.co/ksQoaxvgRv\n",
      "\n",
      "Wed Mar 30 16:56:48 +0000 2022\n",
      "Luleå, Sverige, Sverige\n",
      "2-1 Luleå\n",
      "\n",
      "Wed Mar 30 16:56:48 +0000 2022\n",
      "Arlington, VA, United States\n",
      "@damintoell But that sounds great\n",
      "\n",
      "Wed Mar 30 16:56:47 +0000 2022\n",
      "Nevada, USA, United States\n",
      "Nellis Air Force Base, United States: Heading: 90 | Altitude: 1500 ft https://t.co/eIAhEXYl0v\n",
      "\n",
      "Wed Mar 30 16:56:48 +0000 2022\n",
      "Boston, MA, United States\n",
      "@Kailenraquel Beautiful\n",
      "\n",
      "Wed Mar 30 16:56:48 +0000 2022\n",
      "Land O' Lakes, FL, United States\n",
      "This job is now open at GTE Financial in Lutz, FL. Follow us and turn on mobile alerts to hear about jobs like thes… https://t.co/dQhCsai4tH\n",
      "\n",
      "Wed Mar 30 16:56:48 +0000 2022\n",
      "Roma, Lazio, Italia\n",
      "@Wikipedia #fuckwikipedia https://t.co/klbPSqWNbS\n",
      "\n",
      "Wed Mar 30 16:56:48 +0000 2022\n",
      "São Paulo, Brasil, Brasil\n",
      "@revistaforum Ficou bem feio né? No dia seguinte veio com a desculpa furada que tinha sido o jurídico  do partido q… https://t.co/zOXOWBtjJU\n",
      "\n",
      "Wed Mar 30 16:56:48 +0000 2022\n",
      "Kasihan, Indonesia, Indonesia\n",
      "@alterxjogja Aku free\n",
      "\n",
      "Wed Mar 30 16:56:48 +0000 2022\n",
      "Houston, TX, United States\n",
      "@fujikirako Sir?\n",
      "\n",
      "Wed Mar 30 16:56:48 +0000 2022\n",
      "Prairie View, TX, United States\n",
      "🤣spring fest bout to be a movie\n",
      "\n",
      "Wed Mar 30 16:56:48 +0000 2022\n",
      "Goose Creek, SC, United States\n",
      "The Left ruins everything they touch!\n",
      "\n",
      "Wed Mar 30 16:56:48 +0000 2022\n",
      "Montevideo, Uruguay, Uruguay\n",
      "@DanielJ62208073 Adelante! !!!\n",
      "\n",
      "Wed Mar 30 16:56:48 +0000 2022\n",
      "Rio de Janeiro, Brasil, Brasil\n",
      "@Dfitzjemma @JooMarconi4 @Andd_11 @AlphaSojado @SantanaHills @GMonteiroRJ @JornalOGlobo Mas se fosse algum ator da… https://t.co/157sfQKsWI\n",
      "\n"
     ]
    }
   ],
   "source": [
    "# Twitter limits simultaneous connections to the streaming API,\n",
    "# so this part may not work using the demo API keys during class\n",
    "\n",
    "endpoint = 'statuses/filter'\n",
    "params = {'locations': '-180,-90,180,90'}\n",
    "r = api.request(endpoint, params)\n",
    "LIMIT = 20\n",
    "\n",
    "# 'enumerate' lets us count tweets as we receive them\n",
    "\n",
    "for i, tweet in enumerate(r.get_iterator()):\n",
    "    print(tweet['created_at'])\n",
    "    print(tweet['place']['full_name'] + ', ' + tweet['place']['country'])\n",
    "    print(tweet['text'] + '\\n')\n",
    "    if (i > LIMIT): break\n",
    "\n",
    "# close the streaming connection\n",
    "r.close()"
   ]
  },
  {
   "cell_type": "code",
   "execution_count": null,
   "metadata": {},
   "outputs": [],
   "source": []
  },
  {
   "cell_type": "code",
   "execution_count": null,
   "metadata": {},
   "outputs": [],
   "source": []
  },
  {
   "cell_type": "code",
   "execution_count": null,
   "metadata": {},
   "outputs": [],
   "source": []
  },
  {
   "cell_type": "markdown",
   "metadata": {},
   "source": [
    "### Exercises for the remainder of class\n",
    "\n",
    "1. Make a scatter plot of the lat-lon coordinates of earthquakes.  \n",
    "   &nbsp;\n",
    "   \n",
    "2. Using the geocoding example as a starting point, try searching the Google Maps Directions API or Elevation API instead. Descriptions are in the [API documentation](https://developers.google.com/maps/documentation/geocoding/intro).  \n",
    "   &nbsp;\n",
    "   "
   ]
  },
  {
   "cell_type": "code",
   "execution_count": 29,
   "metadata": {},
   "outputs": [
    {
     "data": {
      "text/plain": [
       "<matplotlib.collections.PathCollection at 0x19786f59e20>"
      ]
     },
     "execution_count": 29,
     "metadata": {},
     "output_type": "execute_result"
    },
    {
     "data": {
      "image/png": "[encoded data removed]",
      "text/plain": [
       "<Figure size 432x288 with 1 Axes>"
      ]
     },
     "metadata": {
      "needs_background": "light"
     },
     "output_type": "display_data"
    }
   ],
   "source": [
    "import matplotlib\n",
    "#pp.pprint(quakes[0]['geometry'])\n",
    "#print(type(quakes[0]['geometry']['coordinates'])) #returns long lat\n",
    "l_coord = [] #list of lists of long lat coords\n",
    "for i in quakes:\n",
    "    j = i['geometry']['coordinates']\n",
    "    j =  j[0:2] #j is long lat\n",
    "    l_coord.append(j)\n",
    "#print(l_coord)\n",
    "x=[]\n",
    "y=[]\n",
    "\n",
    "for i in l_coord:\n",
    "    x.append(i[0])\n",
    "    y.append(i[1])\n",
    "\n",
    "matplotlib.pyplot.scatter(x,y)\n",
    "#x is long\n",
    "#y is lat\n",
    "    "
   ]
  },
  {
   "cell_type": "markdown",
   "metadata": {
    "collapsed": true
   },
   "source": [
    "### For next time...\n",
    "\n",
    "In the next class, you will try out another API that provides data you're interested in. You will be asked to try connecting to it using Python code, and performing some basic operations on the data.  To come prepared for next time, please explore some of the transportation-related APIs that may be valuable, and choose one that is of interest to you.\n",
    "\n",
    "Here are a a few to get you started. \n",
    "\n",
    "Public Transit\n",
    "https://www.programmableweb.com/news/how-smart-cities-are-using-apis-public-transport-apis/2014/05/22\n",
    "\n",
    "Long-Distance Travel\n",
    "http://www.olery.com/blog/the-best-travel-apis-discover-contribute/ \n",
    "\n",
    "Transportation\n",
    "https://www.programmableweb.com/category/transportation/api\n",
    "\n",
    "\n",
    "Start by reading the public transit page, because that provides a nice overview of the types of applications out there, and some of the issues in using them.  These lessons often apply to traffic and transportation more generally.  \n",
    "\n",
    "Keep in mind that there are a number of different organizations that provide APIs, with different motivations and quality of what is provided.  If it is a private company, what is their business model?  What is the underlying source of the data, and what might that imply about how representative it is of the real world?  There is a ton of stuff out there.  How do we go about sorting out what is useful to us and what is now.  Spend some time exploring these and thinking about these questions.  \n"
   ]
  },
  {
   "cell_type": "code",
   "execution_count": null,
   "metadata": {},
   "outputs": [],
   "source": []
  },
  {
   "cell_type": "code",
   "execution_count": null,
   "metadata": {},
   "outputs": [],
   "source": []
  }
 ],
 "metadata": {
  "anaconda-cloud": {},
  "kernelspec": {
   "display_name": "Python 3",
   "language": "python",
   "name": "python3"
  },
  "language_info": {
   "codemirror_mode": {
    "name": "ipython",
    "version": 3
   },
   "file_extension": ".py",
   "mimetype": "text/x-python",
   "name": "python",
   "nbconvert_exporter": "python",
   "pygments_lexer": "ipython3",
   "version": "3.8.8"
  }
 },
 "nbformat": 4,
 "nbformat_minor": 1
}
